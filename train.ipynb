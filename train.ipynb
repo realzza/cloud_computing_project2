{
 "cells": [
  {
   "cell_type": "code",
   "execution_count": 5,
   "id": "e9fa4f16-e723-49e7-87e6-537f6317df6e",
   "metadata": {},
   "outputs": [],
   "source": [
    "import os\n",
    "import numpy as np\n",
    "import pandas as pd\n",
    "from sklearn.naive_bayes import MultinomialNB\n",
    "from sklearn.feature_extraction.text import CountVectorizer\n",
    "from sklearn.feature_extraction.text import TfidfTransformer"
   ]
  },
  {
   "cell_type": "code",
   "execution_count": 3,
   "id": "626f6fe1-a520-41b7-94ef-7705f13e778a",
   "metadata": {},
   "outputs": [],
   "source": [
    "# load data\n",
    "train_data = pd.read_csv('data/training.csv',delimiter=\";\")\n",
    "\n",
    "# preprocess data\n",
    "train_data['isUS'] = train_data['country_code'] == \"US\"\n",
    "train_data['isUS'].replace({False: 0, True: 1}, inplace=True)\n",
    "train_data_text = list(train_data['text'])\n",
    "train_data_code = list(train_data['isUS'])"
   ]
  },
  {
   "cell_type": "code",
   "execution_count": 4,
   "id": "a1824af2-80b7-4b5c-be46-64afdfa37384",
   "metadata": {},
   "outputs": [
    {
     "data": {
      "text/plain": [
       "(9999, 38452)"
      ]
     },
     "execution_count": 4,
     "metadata": {},
     "output_type": "execute_result"
    }
   ],
   "source": [
    "# extracting vectors from data\n",
    "# tokenizing\n",
    "count_vect = CountVectorizer(stop_words=\"english\")\n",
    "X_train_counts = count_vect.fit_transform(train_data_text)\n",
    "tfidf_transformer = TfidfTransformer()\n",
    "X_train_tfidf = tfidf_transformer.fit_transform(X_train_counts)\n",
    "X_train_tfidf.shape"
   ]
  },
  {
   "cell_type": "code",
   "execution_count": 6,
   "id": "3f236f01-842a-4980-85ff-c8e72b749904",
   "metadata": {},
   "outputs": [],
   "source": [
    "clf = MultinomialNB().fit(X_train_tfidf, train_data_code)"
   ]
  },
  {
   "cell_type": "code",
   "execution_count": 8,
   "id": "24f49b6a-4779-4fd3-aca9-6bc33c82a6ab",
   "metadata": {},
   "outputs": [
    {
     "data": {
      "text/plain": [
       "(29999, 38452)"
      ]
     },
     "execution_count": 8,
     "metadata": {},
     "output_type": "execute_result"
    }
   ],
   "source": [
    "# prepare test data\n",
    "test_data = pd.read_csv(\"data/test.csv\", delimiter=';')\n",
    "test_data['isUS'] = test_data['country_code'] == \"US\"\n",
    "test_data['isUS'].replace({False: 0, True: 1}, inplace=True)\n",
    "\n",
    "test_data_text = list(test_data['text'])\n",
    "test_data_code = list(test_data['isUS'])\n",
    "\n",
    "# test data vector extracting\n",
    "# count_vect = CountVectorizer(stop_words=\"english\")\n",
    "X_test_counts = count_vect.transform(test_data_text)\n",
    "X_test_tfidf = tfidf_transformer.transform(X_test_counts)\n",
    "X_test_tfidf.shape"
   ]
  },
  {
   "cell_type": "code",
   "execution_count": 9,
   "id": "8772c95b-3d35-4911-bdd1-5671186035cd",
   "metadata": {},
   "outputs": [],
   "source": [
    "test_predictions = clf.predict(X_test_tfidf)"
   ]
  },
  {
   "cell_type": "code",
   "execution_count": 10,
   "id": "cbed1ac8-9382-4429-b30d-abab24baad04",
   "metadata": {},
   "outputs": [
    {
     "data": {
      "text/plain": [
       "0.7731591053035101"
      ]
     },
     "execution_count": 10,
     "metadata": {},
     "output_type": "execute_result"
    }
   ],
   "source": [
    "# ACC\n",
    "np.mean(test_predictions == test_data_code)"
   ]
  },
  {
   "cell_type": "code",
   "execution_count": 11,
   "id": "dcc10b6b-0c68-433d-a2e0-eb00f3f67178",
   "metadata": {},
   "outputs": [],
   "source": [
    "with open(\"tween_m.pkl\", 'wb') as fout:\n",
    "    pickle.dump((count_vect, tfidf_transformer, clf), fout)"
   ]
  },
  {
   "cell_type": "code",
   "execution_count": null,
   "id": "18138926-a0b6-4b88-93c8-8a318c8f5b4f",
   "metadata": {},
   "outputs": [],
   "source": []
  }
 ],
 "metadata": {
  "kernelspec": {
   "display_name": "Python 3 (ipykernel)",
   "language": "python",
   "name": "python3"
  },
  "language_info": {
   "codemirror_mode": {
    "name": "ipython",
    "version": 3
   },
   "file_extension": ".py",
   "mimetype": "text/x-python",
   "name": "python",
   "nbconvert_exporter": "python",
   "pygments_lexer": "ipython3",
   "version": "3.8.10"
  }
 },
 "nbformat": 4,
 "nbformat_minor": 5
}
