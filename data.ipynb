{
 "cells": [
  {
   "cell_type": "code",
   "execution_count": 35,
   "id": "678143af-ae64-41ca-9fbd-1f6f85252be1",
   "metadata": {},
   "outputs": [],
   "source": [
    "import os\n",
    "import numpy as np\n",
    "import pandas as pd\n",
    "from sklearn.feature_extraction.text import CountVectorizer\n",
    "from sklearn.feature_extraction.text import TfidfTransformer"
   ]
  },
  {
   "cell_type": "code",
   "execution_count": 3,
   "id": "445afc1e-2fcf-4428-87bf-21734169942b",
   "metadata": {},
   "outputs": [],
   "source": [
    "with open('data/training.csv','r') as f:\n",
    "    train_data = f.read().split('\\n')"
   ]
  },
  {
   "cell_type": "code",
   "execution_count": 31,
   "id": "fa2c024a-047f-495c-884c-98590a3d5521",
   "metadata": {},
   "outputs": [],
   "source": [
    "train_data = pd.read_csv('data/training.csv',delimiter=\";\")"
   ]
  },
  {
   "cell_type": "code",
   "execution_count": 14,
   "id": "e86b892c-eb3b-4121-b2a2-8fae0c78d0b5",
   "metadata": {},
   "outputs": [],
   "source": [
    "train_data['isUS'] = train_data['country_code'] == \"US\""
   ]
  },
  {
   "cell_type": "code",
   "execution_count": 17,
   "id": "5dc44463-4378-4e0c-97c3-58780544771b",
   "metadata": {},
   "outputs": [],
   "source": [
    "train_data['isUS'].replace({False: 0, True: 1}, inplace=True)"
   ]
  },
  {
   "cell_type": "code",
   "execution_count": 23,
   "id": "dcc9ce90-afae-49f1-af19-462cd04b1b71",
   "metadata": {},
   "outputs": [],
   "source": [
    "train_data_text = list(train_data['text'])\n",
    "train_data_code = list(train_data['isUS'])"
   ]
  },
  {
   "cell_type": "code",
   "execution_count": 60,
   "id": "ff94d944-b5dc-41cc-8d1f-33b74e87b176",
   "metadata": {},
   "outputs": [
    {
     "data": {
      "text/plain": [
       "(9999, 38452)"
      ]
     },
     "execution_count": 60,
     "metadata": {},
     "output_type": "execute_result"
    }
   ],
   "source": [
    "# tokenizing\n",
    "count_vect = CountVectorizer(stop_words=\"english\")\n",
    "X_train_counts = count_vect.fit_transform(train_data_text)\n",
    "X_train_counts.shape"
   ]
  },
  {
   "cell_type": "code",
   "execution_count": 61,
   "id": "9af21978-aa5f-4dbf-b4e3-085278511fee",
   "metadata": {},
   "outputs": [
    {
     "data": {
      "text/plain": [
       "(9999, 38452)"
      ]
     },
     "execution_count": 61,
     "metadata": {},
     "output_type": "execute_result"
    }
   ],
   "source": [
    "tfidf_transformer = TfidfTransformer()\n",
    "X_train_tfidf = tfidf_transformer.fit_transform(X_train_counts)\n",
    "X_train_tfidf.shape"
   ]
  },
  {
   "cell_type": "code",
   "execution_count": 62,
   "id": "ee9bfbe9-a9d6-49a4-a5d0-2205246bd87b",
   "metadata": {},
   "outputs": [],
   "source": [
    "# train a classifier\n",
    "from sklearn.naive_bayes import MultinomialNB"
   ]
  },
  {
   "cell_type": "code",
   "execution_count": 63,
   "id": "b2b72b5c-0d8c-4403-8f41-adb7b865e921",
   "metadata": {},
   "outputs": [],
   "source": [
    "clf = MultinomialNB().fit(X_train_tfidf, train_data_code)"
   ]
  },
  {
   "cell_type": "code",
   "execution_count": 64,
   "id": "7be12df8-8db7-4dea-8c0f-77c03efb0285",
   "metadata": {},
   "outputs": [],
   "source": [
    "test_sample = train_data_text[2:3]"
   ]
  },
  {
   "cell_type": "code",
   "execution_count": 65,
   "id": "b41e821f-e062-4b90-ac98-c2a74505be26",
   "metadata": {},
   "outputs": [],
   "source": [
    "X_new_counts = count_vect.transform(test_sample)\n",
    "X_new_tfidf = tfidf_transformer.transform(X_new_counts)"
   ]
  },
  {
   "cell_type": "code",
   "execution_count": 66,
   "id": "aa1b3cfa-e97b-4ebe-b3bf-be25de038ac1",
   "metadata": {},
   "outputs": [
    {
     "data": {
      "text/plain": [
       "array([0])"
      ]
     },
     "execution_count": 66,
     "metadata": {},
     "output_type": "execute_result"
    }
   ],
   "source": [
    "clf.predict(X_new_tfidf)"
   ]
  },
  {
   "cell_type": "code",
   "execution_count": 67,
   "id": "0eabb23f-34b8-4bd0-8f0c-603eae323a07",
   "metadata": {},
   "outputs": [
    {
     "data": {
      "text/plain": [
       "(29999, 86758)"
      ]
     },
     "execution_count": 67,
     "metadata": {},
     "output_type": "execute_result"
    }
   ],
   "source": [
    "# prepare test data\n",
    "test_data = pd.read_csv(\"data/test.csv\", delimiter=';')\n",
    "test_data['isUS'] = test_data['country_code'] == \"US\"\n",
    "test_data['isUS'].replace({False: 0, True: 1}, inplace=True)\n",
    "\n",
    "test_data_text = list(test_data['text'])\n",
    "test_data_code = list(test_data['isUS'])\n",
    "\n",
    "# test data tokenizing\n",
    "count_vect = CountVectorizer(stop_words=\"english\")\n",
    "X_test_counts = count_vect.fit_transform(test_data_text)\n",
    "X_test_counts.shape"
   ]
  },
  {
   "cell_type": "code",
   "execution_count": 69,
   "id": "6bd71057-d8e9-4791-b7b3-2b0cd9536d90",
   "metadata": {},
   "outputs": [],
   "source": [
    "data_all_text = train_data_text + test_data_text\n",
    "data_all_code = train_data_code + test_data_code"
   ]
  },
  {
   "cell_type": "code",
   "execution_count": 70,
   "id": "d3a01151-c5c7-47d9-9fc8-5f932b5cb842",
   "metadata": {},
   "outputs": [
    {
     "data": {
      "text/plain": [
       "(39998, 107267)"
      ]
     },
     "execution_count": 70,
     "metadata": {},
     "output_type": "execute_result"
    }
   ],
   "source": [
    "# tokenizing\n",
    "count_vect = CountVectorizer(stop_words=\"english\")\n",
    "X_all_counts = count_vect.fit_transform(data_all_text)\n",
    "X_all_counts.shape"
   ]
  },
  {
   "cell_type": "code",
   "execution_count": 72,
   "id": "65359b35-253b-477d-9d5b-8efa6f32a355",
   "metadata": {},
   "outputs": [
    {
     "data": {
      "text/plain": [
       "(9999, 107267)"
      ]
     },
     "execution_count": 72,
     "metadata": {},
     "output_type": "execute_result"
    }
   ],
   "source": [
    "train_counts = X_all_counts[:9999,:]\n",
    "test_counts = X_all_counts[9999:,]\n",
    "tfidf_transformer = TfidfTransformer()\n",
    "X_train_tfidf = tfidf_transformer.fit_transform(train_counts)\n",
    "X_test_tfidf = tfidf_transformer.fit_transform(test_counts)\n",
    "X_train_tfidf.shape"
   ]
  },
  {
   "cell_type": "code",
   "execution_count": 73,
   "id": "3c570cd1-0364-46d1-b371-251f51a18fd2",
   "metadata": {},
   "outputs": [],
   "source": [
    "clf = MultinomialNB().fit(X_train_tfidf, train_data_code)"
   ]
  },
  {
   "cell_type": "code",
   "execution_count": 75,
   "id": "affecf06-7ee7-449a-9d28-1f11b02d8a4b",
   "metadata": {},
   "outputs": [],
   "source": [
    "test_predictions = clf.predict(X_test_tfidf)"
   ]
  },
  {
   "cell_type": "code",
   "execution_count": 76,
   "id": "088dd283-2914-47fc-90a5-3e8a9ed049fa",
   "metadata": {},
   "outputs": [
    {
     "data": {
      "text/plain": [
       "0.7664922164072135"
      ]
     },
     "execution_count": 76,
     "metadata": {},
     "output_type": "execute_result"
    }
   ],
   "source": [
    "np.mean(test_predictions == test_data_code)"
   ]
  },
  {
   "cell_type": "code",
   "execution_count": 80,
   "id": "4499755e-ce13-4303-8be0-b1f22983cc6b",
   "metadata": {},
   "outputs": [],
   "source": [
    "# dump model with pickle\n",
    "import pickle\n",
    "with open('tweet_classifier.pkl','wb') as f:\n",
    "    pickle.dump(clf,f)"
   ]
  },
  {
   "cell_type": "code",
   "execution_count": null,
   "id": "835a8373-512d-4195-82dd-ea3388332b0d",
   "metadata": {},
   "outputs": [],
   "source": []
  }
 ],
 "metadata": {
  "kernelspec": {
   "display_name": "Python 3 (ipykernel)",
   "language": "python",
   "name": "python3"
  },
  "language_info": {
   "codemirror_mode": {
    "name": "ipython",
    "version": 3
   },
   "file_extension": ".py",
   "mimetype": "text/x-python",
   "name": "python",
   "nbconvert_exporter": "python",
   "pygments_lexer": "ipython3",
   "version": "3.8.10"
  }
 },
 "nbformat": 4,
 "nbformat_minor": 5
}
